{
 "cells": [
  {
   "cell_type": "markdown",
   "metadata": {},
   "source": [
    "# SDK and pandas demo\n",
    "\n",
    "This notebook demonstrates the relation between pandas and the python SDK"
   ]
  },
  {
   "cell_type": "code",
   "execution_count": 1,
   "metadata": {},
   "outputs": [],
   "source": [
    "from matplotlib import pyplot as plt\n",
    "import os\n",
    "from datetime import datetime\n",
    "from getpass import getpass\n",
    "from cognite.client.experimental import CogniteClient\n",
    "from cognite.client.exceptions import *\n",
    "project = 'publicdata'\n",
    "api_key = os.environ['PUBLICDATA_API_KEY'] or getpass(\"Open Industrial Data API-KEY: \")\n",
    "client = CogniteClient(project=project,api_key=api_key,client_name=\"STS demo\")"
   ]
  },
  {
   "cell_type": "markdown",
   "metadata": {},
   "source": [
    "## The SDK has several built-in types to represent CDF data"
   ]
  },
  {
   "cell_type": "code",
   "execution_count": 2,
   "metadata": {},
   "outputs": [
    {
     "data": {
      "text/plain": [
       "cognite.client.data_classes.time_series.TimeSeriesList"
      ]
     },
     "execution_count": 2,
     "metadata": {},
     "output_type": "execute_result"
    }
   ],
   "source": [
    "ts = client.time_series.list(limit=10)\n",
    "ts.__class__"
   ]
  },
  {
   "cell_type": "code",
   "execution_count": 3,
   "metadata": {},
   "outputs": [
    {
     "data": {
      "text/plain": [
       "cognite.client.data_classes.time_series.TimeSeries"
      ]
     },
     "execution_count": 3,
     "metadata": {},
     "output_type": "execute_result"
    }
   ],
   "source": [
    "ts[0].__class__"
   ]
  },
  {
   "cell_type": "markdown",
   "metadata": {},
   "source": [
    "## Since late 2019, these classes are shown by default in a readable, pandas-like way in notebooks"
   ]
  },
  {
   "cell_type": "code",
   "execution_count": 4,
   "metadata": {},
   "outputs": [
    {
     "data": {
      "text/html": [
       "<div>\n",
       "<style scoped>\n",
       "    .dataframe tbody tr th:only-of-type {\n",
       "        vertical-align: middle;\n",
       "    }\n",
       "\n",
       "    .dataframe tbody tr th {\n",
       "        vertical-align: top;\n",
       "    }\n",
       "\n",
       "    .dataframe thead th {\n",
       "        text-align: right;\n",
       "    }\n",
       "</style>\n",
       "<table border=\"1\" class=\"dataframe\">\n",
       "  <thead>\n",
       "    <tr style=\"text-align: right;\">\n",
       "      <th></th>\n",
       "      <th>id</th>\n",
       "      <th>external_id</th>\n",
       "      <th>name</th>\n",
       "      <th>is_string</th>\n",
       "      <th>metadata</th>\n",
       "      <th>asset_id</th>\n",
       "      <th>is_step</th>\n",
       "      <th>description</th>\n",
       "      <th>created_time</th>\n",
       "      <th>last_updated_time</th>\n",
       "    </tr>\n",
       "  </thead>\n",
       "  <tbody>\n",
       "    <tr>\n",
       "      <th>0</th>\n",
       "      <td>35246780681261</td>\n",
       "      <td>VAL_23-LY-92529_SILch0_SC0_TYPSP:VALUE</td>\n",
       "      <td>VAL_23-LY-92529_SILch0_SC0_TYPSP:VALUE</td>\n",
       "      <td>False</td>\n",
       "      <td>{'tag': 'VAL_23-LY-92529_SILch0_SC0_TYPSP:VALU...</td>\n",
       "      <td>3424990723231138</td>\n",
       "      <td>False</td>\n",
       "      <td>PH (Profiler) Shutdown Channel 0 - Tube y Posi...</td>\n",
       "      <td>0</td>\n",
       "      <td>0</td>\n",
       "    </tr>\n",
       "    <tr>\n",
       "      <th>1</th>\n",
       "      <td>41852231325889</td>\n",
       "      <td>VAL_45-FT-92139B:X.Value</td>\n",
       "      <td>VAL_45-FT-92139B:X.Value</td>\n",
       "      <td>False</td>\n",
       "      <td>{'tag': 'VAL_45-FT-92139B:X.Value', 'scan': '1...</td>\n",
       "      <td>4293345866058133</td>\n",
       "      <td>False</td>\n",
       "      <td>PH 1stStg LO Cooler CW</td>\n",
       "      <td>0</td>\n",
       "      <td>0</td>\n",
       "    </tr>\n",
       "    <tr>\n",
       "      <th>2</th>\n",
       "      <td>44435358976768</td>\n",
       "      <td>VAL_23-LT-96182-03:X.Value</td>\n",
       "      <td>VAL_23-LT-96182-03:X.Value</td>\n",
       "      <td>False</td>\n",
       "      <td>{'tag': 'VAL_23-LT-96182-03:X.Value', 'scan': ...</td>\n",
       "      <td>5826132550305704</td>\n",
       "      <td>False</td>\n",
       "      <td>PH 1stStg Lube Oil Reservoir</td>\n",
       "      <td>0</td>\n",
       "      <td>0</td>\n",
       "    </tr>\n",
       "    <tr>\n",
       "      <th>3</th>\n",
       "      <td>81505042780431</td>\n",
       "      <td>VAL_23-TT-96103-03:Z.X.Value</td>\n",
       "      <td>VAL_23-TT-96103-03:Z.X.Value</td>\n",
       "      <td>False</td>\n",
       "      <td>{'tag': 'VAL_23-TT-96103-03:Z.X.Value', 'scan'...</td>\n",
       "      <td>7271158805875629</td>\n",
       "      <td>False</td>\n",
       "      <td>PH 1stStg Comp Thrust BRG IN</td>\n",
       "      <td>0</td>\n",
       "      <td>0</td>\n",
       "    </tr>\n",
       "    <tr>\n",
       "      <th>4</th>\n",
       "      <td>82185797798532</td>\n",
       "      <td>VAL_23-KA-9101-M01_OC_instantaneous_residual_N...</td>\n",
       "      <td>VAL_23-KA-9101-M01_OC_instantaneous_residual_N...</td>\n",
       "      <td>False</td>\n",
       "      <td>{'tag': 'VAL_23-KA-9101-M01_OC_instantaneous_r...</td>\n",
       "      <td>6191827428964450</td>\n",
       "      <td>False</td>\n",
       "      <td>PH (SwitchGear) MV-COMP.M. FEEDER/ 51-3  Non D...</td>\n",
       "      <td>0</td>\n",
       "      <td>0</td>\n",
       "    </tr>\n",
       "    <tr>\n",
       "      <th>5</th>\n",
       "      <td>86240763048067</td>\n",
       "      <td>VAL_23-KA-9101-M01-EL:XS.CoreStatus.Xservice.S...</td>\n",
       "      <td>VAL_23-KA-9101-M01-EL:XS.CoreStatus.Xservice.S...</td>\n",
       "      <td>False</td>\n",
       "      <td>{'tag': 'VAL_23-KA-9101-M01-EL:XS.CoreStatus.X...</td>\n",
       "      <td>6191827428964450</td>\n",
       "      <td>False</td>\n",
       "      <td>PH Truck in Service</td>\n",
       "      <td>0</td>\n",
       "      <td>0</td>\n",
       "    </tr>\n",
       "    <tr>\n",
       "      <th>6</th>\n",
       "      <td>94387769425302</td>\n",
       "      <td>VAL_23-KA-9101-M01_Motor_startup_supervision_M...</td>\n",
       "      <td>VAL_23-KA-9101-M01_Motor_startup_supervision_M...</td>\n",
       "      <td>False</td>\n",
       "      <td>{'tag': 'VAL_23-KA-9101-M01_Motor_startup_supe...</td>\n",
       "      <td>6191827428964450</td>\n",
       "      <td>False</td>\n",
       "      <td>PH (SwitchGear)</td>\n",
       "      <td>0</td>\n",
       "      <td>0</td>\n",
       "    </tr>\n",
       "    <tr>\n",
       "      <th>7</th>\n",
       "      <td>160363870036631</td>\n",
       "      <td>VAL_23_PT_92537:Z.X.Value</td>\n",
       "      <td>VAL_23_PT_92537:Z.X.Value</td>\n",
       "      <td>False</td>\n",
       "      <td>{'tag': 'VAL_23_PT_92537:Z.X.Value', 'scan': '...</td>\n",
       "      <td>1543828113500234</td>\n",
       "      <td>False</td>\n",
       "      <td>PH 1stStgComp Discharge</td>\n",
       "      <td>0</td>\n",
       "      <td>0</td>\n",
       "    </tr>\n",
       "    <tr>\n",
       "      <th>8</th>\n",
       "      <td>161590978537613</td>\n",
       "      <td>VAL_23-PT-92523:X.Value</td>\n",
       "      <td>VAL_23-PT-92523:X.Value</td>\n",
       "      <td>False</td>\n",
       "      <td>{'tag': 'VAL_23-PT-92523:X.Value', 'scan': '1'...</td>\n",
       "      <td>6990527136674720</td>\n",
       "      <td>False</td>\n",
       "      <td>PH 1stStgSuctScrubber</td>\n",
       "      <td>0</td>\n",
       "      <td>0</td>\n",
       "    </tr>\n",
       "    <tr>\n",
       "      <th>9</th>\n",
       "      <td>171465662628809</td>\n",
       "      <td>VAL_23-YA-96120-01:Z.X.Value</td>\n",
       "      <td>VAL_23-YA-96120-01:Z.X.Value</td>\n",
       "      <td>False</td>\n",
       "      <td>{'tag': 'VAL_23-YA-96120-01:Z.X.Value', 'scan'...</td>\n",
       "      <td>2697126585129848</td>\n",
       "      <td>False</td>\n",
       "      <td>PH 1stStg Gear2 Journ BRG DE</td>\n",
       "      <td>0</td>\n",
       "      <td>0</td>\n",
       "    </tr>\n",
       "  </tbody>\n",
       "</table>\n",
       "</div>"
      ],
      "text/plain": [
       "[<cognite.client.data_classes.time_series.TimeSeries object at 0x7f708cc5df98>, <cognite.client.data_classes.time_series.TimeSeries object at 0x7f708cc5f4e0>, <cognite.client.data_classes.time_series.TimeSeries object at 0x7f708cc5f4a8>, <cognite.client.data_classes.time_series.TimeSeries object at 0x7f708cc5f470>, <cognite.client.data_classes.time_series.TimeSeries object at 0x7f708cc5f438>, <cognite.client.data_classes.time_series.TimeSeries object at 0x7f708cc5f400>, <cognite.client.data_classes.time_series.TimeSeries object at 0x7f708cc5f3c8>, <cognite.client.data_classes.time_series.TimeSeries object at 0x7f708cc5f390>, <cognite.client.data_classes.time_series.TimeSeries object at 0x7f708cc5f358>, <cognite.client.data_classes.time_series.TimeSeries object at 0x7f708cc5f320>]"
      ]
     },
     "execution_count": 4,
     "metadata": {},
     "output_type": "execute_result"
    }
   ],
   "source": [
    "ts"
   ]
  },
  {
   "cell_type": "code",
   "execution_count": 5,
   "metadata": {},
   "outputs": [
    {
     "data": {
      "text/html": [
       "<div>\n",
       "<style scoped>\n",
       "    .dataframe tbody tr th:only-of-type {\n",
       "        vertical-align: middle;\n",
       "    }\n",
       "\n",
       "    .dataframe tbody tr th {\n",
       "        vertical-align: top;\n",
       "    }\n",
       "\n",
       "    .dataframe thead th {\n",
       "        text-align: right;\n",
       "    }\n",
       "</style>\n",
       "<table border=\"1\" class=\"dataframe\">\n",
       "  <thead>\n",
       "    <tr style=\"text-align: right;\">\n",
       "      <th></th>\n",
       "      <th>value</th>\n",
       "    </tr>\n",
       "  </thead>\n",
       "  <tbody>\n",
       "    <tr>\n",
       "      <th>id</th>\n",
       "      <td>35246780681261</td>\n",
       "    </tr>\n",
       "    <tr>\n",
       "      <th>external_id</th>\n",
       "      <td>VAL_23-LY-92529_SILch0_SC0_TYPSP:VALUE</td>\n",
       "    </tr>\n",
       "    <tr>\n",
       "      <th>name</th>\n",
       "      <td>VAL_23-LY-92529_SILch0_SC0_TYPSP:VALUE</td>\n",
       "    </tr>\n",
       "    <tr>\n",
       "      <th>is_string</th>\n",
       "      <td>False</td>\n",
       "    </tr>\n",
       "    <tr>\n",
       "      <th>asset_id</th>\n",
       "      <td>3424990723231138</td>\n",
       "    </tr>\n",
       "    <tr>\n",
       "      <th>is_step</th>\n",
       "      <td>False</td>\n",
       "    </tr>\n",
       "    <tr>\n",
       "      <th>description</th>\n",
       "      <td>PH (Profiler) Shutdown Channel 0 - Tube y Posi...</td>\n",
       "    </tr>\n",
       "    <tr>\n",
       "      <th>created_time</th>\n",
       "      <td>0</td>\n",
       "    </tr>\n",
       "    <tr>\n",
       "      <th>last_updated_time</th>\n",
       "      <td>0</td>\n",
       "    </tr>\n",
       "    <tr>\n",
       "      <th>tag</th>\n",
       "      <td>VAL_23-LY-92529_SILch0_SC0_TYPSP:VALUE</td>\n",
       "    </tr>\n",
       "    <tr>\n",
       "      <th>scan</th>\n",
       "      <td>1</td>\n",
       "    </tr>\n",
       "    <tr>\n",
       "      <th>span</th>\n",
       "      <td>100.0</td>\n",
       "    </tr>\n",
       "    <tr>\n",
       "      <th>step</th>\n",
       "      <td>0</td>\n",
       "    </tr>\n",
       "    <tr>\n",
       "      <th>zero</th>\n",
       "      <td>0.0</td>\n",
       "    </tr>\n",
       "    <tr>\n",
       "      <th>recno</th>\n",
       "      <td>145073</td>\n",
       "    </tr>\n",
       "    <tr>\n",
       "      <th>excdev</th>\n",
       "      <td>0.0</td>\n",
       "    </tr>\n",
       "    <tr>\n",
       "      <th>excmax</th>\n",
       "      <td>600</td>\n",
       "    </tr>\n",
       "    <tr>\n",
       "      <th>excmin</th>\n",
       "      <td>0</td>\n",
       "    </tr>\n",
       "    <tr>\n",
       "      <th>exdesc</th>\n",
       "      <td></td>\n",
       "    </tr>\n",
       "    <tr>\n",
       "      <th>future</th>\n",
       "      <td>0</td>\n",
       "    </tr>\n",
       "    <tr>\n",
       "      <th>compdev</th>\n",
       "      <td>0.0</td>\n",
       "    </tr>\n",
       "    <tr>\n",
       "      <th>compmax</th>\n",
       "      <td>28800</td>\n",
       "    </tr>\n",
       "    <tr>\n",
       "      <th>compmin</th>\n",
       "      <td>0</td>\n",
       "    </tr>\n",
       "    <tr>\n",
       "      <th>convers</th>\n",
       "      <td>1.0</td>\n",
       "    </tr>\n",
       "    <tr>\n",
       "      <th>pointid</th>\n",
       "      <td>160573</td>\n",
       "    </tr>\n",
       "    <tr>\n",
       "      <th>srcptid</th>\n",
       "      <td>0</td>\n",
       "    </tr>\n",
       "    <tr>\n",
       "      <th>engunits</th>\n",
       "      <td></td>\n",
       "    </tr>\n",
       "    <tr>\n",
       "      <th>shutdown</th>\n",
       "      <td>0</td>\n",
       "    </tr>\n",
       "    <tr>\n",
       "      <th>userint1</th>\n",
       "      <td>0</td>\n",
       "    </tr>\n",
       "    <tr>\n",
       "      <th>userint2</th>\n",
       "      <td>0</td>\n",
       "    </tr>\n",
       "    <tr>\n",
       "      <th>archiving</th>\n",
       "      <td>1</td>\n",
       "    </tr>\n",
       "    <tr>\n",
       "      <th>location1</th>\n",
       "      <td>1</td>\n",
       "    </tr>\n",
       "    <tr>\n",
       "      <th>location2</th>\n",
       "      <td>0</td>\n",
       "    </tr>\n",
       "    <tr>\n",
       "      <th>location3</th>\n",
       "      <td>1</td>\n",
       "    </tr>\n",
       "    <tr>\n",
       "      <th>location4</th>\n",
       "      <td>1</td>\n",
       "    </tr>\n",
       "    <tr>\n",
       "      <th>location5</th>\n",
       "      <td>0</td>\n",
       "    </tr>\n",
       "    <tr>\n",
       "      <th>pointtype</th>\n",
       "      <td>12</td>\n",
       "    </tr>\n",
       "    <tr>\n",
       "      <th>ptclassid</th>\n",
       "      <td>2</td>\n",
       "    </tr>\n",
       "    <tr>\n",
       "      <th>sourcetag</th>\n",
       "      <td></td>\n",
       "    </tr>\n",
       "    <tr>\n",
       "      <th>totalcode</th>\n",
       "      <td>0</td>\n",
       "    </tr>\n",
       "    <tr>\n",
       "      <th>userreal1</th>\n",
       "      <td>0.0</td>\n",
       "    </tr>\n",
       "    <tr>\n",
       "      <th>userreal2</th>\n",
       "      <td>0.0</td>\n",
       "    </tr>\n",
       "    <tr>\n",
       "      <th>descriptor</th>\n",
       "      <td>PH (Profiler) Shutdown Channel 0 - Tube y Posi...</td>\n",
       "    </tr>\n",
       "    <tr>\n",
       "      <th>digitalset</th>\n",
       "      <td></td>\n",
       "    </tr>\n",
       "    <tr>\n",
       "      <th>filtercode</th>\n",
       "      <td>0</td>\n",
       "    </tr>\n",
       "    <tr>\n",
       "      <th>ptclassrev</th>\n",
       "      <td>1</td>\n",
       "    </tr>\n",
       "    <tr>\n",
       "      <th>squareroot</th>\n",
       "      <td>0</td>\n",
       "    </tr>\n",
       "    <tr>\n",
       "      <th>compressing</th>\n",
       "      <td>1</td>\n",
       "    </tr>\n",
       "    <tr>\n",
       "      <th>pointsource</th>\n",
       "      <td>VAL3P</td>\n",
       "    </tr>\n",
       "    <tr>\n",
       "      <th>ptclassname</th>\n",
       "      <td>classic</td>\n",
       "    </tr>\n",
       "    <tr>\n",
       "      <th>typicalvalue</th>\n",
       "      <td>50.0</td>\n",
       "    </tr>\n",
       "    <tr>\n",
       "      <th>displaydigits</th>\n",
       "      <td>-5</td>\n",
       "    </tr>\n",
       "    <tr>\n",
       "      <th>excdevpercent</th>\n",
       "      <td>0.0</td>\n",
       "    </tr>\n",
       "    <tr>\n",
       "      <th>instrumenttag</th>\n",
       "      <td>23-LY-92529_SILch0_SC0_TYPSP:VALUE</td>\n",
       "    </tr>\n",
       "    <tr>\n",
       "      <th>compdevpercent</th>\n",
       "      <td>0.0</td>\n",
       "    </tr>\n",
       "  </tbody>\n",
       "</table>\n",
       "</div>"
      ],
      "text/plain": [
       "<cognite.client.data_classes.time_series.TimeSeries at 0x7f708cc5df98>"
      ]
     },
     "execution_count": 5,
     "metadata": {},
     "output_type": "execute_result"
    }
   ],
   "source": [
    "ts[0]"
   ]
  },
  {
   "cell_type": "markdown",
   "metadata": {},
   "source": [
    "## Before this, a JSON like format was used"
   ]
  },
  {
   "cell_type": "code",
   "execution_count": 6,
   "metadata": {},
   "outputs": [
    {
     "name": "stdout",
     "output_type": "stream",
     "text": [
      "{\n",
      "    \"id\": 35246780681261,\n",
      "    \"external_id\": \"VAL_23-LY-92529_SILch0_SC0_TYPSP:VALUE\",\n",
      "    \"name\": \"VAL_23-LY-92529_SILch0_SC0_TYPSP:VALUE\",\n",
      "    \"is_string\": false,\n",
      "    \"metadata\": {\n",
      "        \"tag\": \"VAL_23-LY-92529_SILch0_SC0_TYPSP:VALUE\",\n",
      "        \"scan\": \"1\",\n",
      "        \"span\": \"100.0\",\n",
      "        \"step\": \"0\",\n",
      "        \"zero\": \"0.0\",\n",
      "        \"recno\": \"145073\",\n",
      "        \"excdev\": \"0.0\",\n",
      "        \"excmax\": \"600\",\n",
      "        \"excmin\": \"0\",\n",
      "        \"exdesc\": \"\",\n",
      "        \"future\": \"0\",\n",
      "        \"compdev\": \"0.0\",\n",
      "        \"compmax\": \"28800\",\n",
      "        \"compmin\": \"0\",\n",
      "        \"convers\": \"1.0\",\n",
      "        \"pointid\": \"160573\",\n",
      "        \"srcptid\": \"0\",\n",
      "        \"engunits\": \"\",\n",
      "        \"shutdown\": \"0\",\n",
      "        \"userint1\": \"0\",\n",
      "        \"userint2\": \"0\",\n",
      "        \"archiving\": \"1\",\n",
      "        \"location1\": \"1\",\n",
      "        \"location2\": \"0\",\n",
      "        \"location3\": \"1\",\n",
      "        \"location4\": \"1\",\n",
      "        \"location5\": \"0\",\n",
      "        \"pointtype\": \"12\",\n",
      "        \"ptclassid\": \"2\",\n",
      "        \"sourcetag\": \"\",\n",
      "        \"totalcode\": \"0\",\n",
      "        \"userreal1\": \"0.0\",\n",
      "        \"userreal2\": \"0.0\",\n",
      "        \"descriptor\": \"PH (Profiler) Shutdown Channel 0 - Tube y Position Setpoint\",\n",
      "        \"digitalset\": \"\",\n",
      "        \"filtercode\": \"0\",\n",
      "        \"ptclassrev\": \"1\",\n",
      "        \"squareroot\": \"0\",\n",
      "        \"compressing\": \"1\",\n",
      "        \"pointsource\": \"VAL3P\",\n",
      "        \"ptclassname\": \"classic\",\n",
      "        \"typicalvalue\": \"50.0\",\n",
      "        \"displaydigits\": \"-5\",\n",
      "        \"excdevpercent\": \"0.0\",\n",
      "        \"instrumenttag\": \"23-LY-92529_SILch0_SC0_TYPSP:VALUE\",\n",
      "        \"compdevpercent\": \"0.0\"\n",
      "    },\n",
      "    \"asset_id\": 3424990723231138,\n",
      "    \"is_step\": false,\n",
      "    \"description\": \"PH (Profiler) Shutdown Channel 0 - Tube y Position Setpoint\",\n",
      "    \"created_time\": \"1970-01-01 00:00:00\",\n",
      "    \"last_updated_time\": \"1970-01-01 00:00:00\"\n",
      "}\n"
     ]
    }
   ],
   "source": [
    "print(str(ts[0]))"
   ]
  },
  {
   "cell_type": "markdown",
   "metadata": {},
   "source": [
    "## But keep in mind, these built-in types do not behave like pandas dataframes"
   ]
  },
  {
   "cell_type": "code",
   "execution_count": 7,
   "metadata": {},
   "outputs": [
    {
     "ename": "AttributeError",
     "evalue": "'TimeSeriesList' object has no attribute 'loc'",
     "output_type": "error",
     "traceback": [
      "\u001b[0;31m---------------------------------------------------------------------------\u001b[0m",
      "\u001b[0;31mAttributeError\u001b[0m                            Traceback (most recent call last)",
      "\u001b[0;32m<ipython-input-7-1bea6d5b37c4>\u001b[0m in \u001b[0;36m<module>\u001b[0;34m\u001b[0m\n\u001b[0;32m----> 1\u001b[0;31m \u001b[0mts\u001b[0m\u001b[0;34m.\u001b[0m\u001b[0mloc\u001b[0m\u001b[0;34m[\u001b[0m\u001b[0;34m:\u001b[0m\u001b[0;34m,\u001b[0m\u001b[0;34m'external_id'\u001b[0m\u001b[0;34m]\u001b[0m\u001b[0;34m\u001b[0m\u001b[0;34m\u001b[0m\u001b[0m\n\u001b[0m",
      "\u001b[0;32m~/anaconda3/lib/python3.7/site-packages/cognite/client/data_classes/_base.py\u001b[0m in \u001b[0;36m__getattribute__\u001b[0;34m(self, item)\u001b[0m\n\u001b[1;32m    183\u001b[0m \u001b[0;34m\u001b[0m\u001b[0m\n\u001b[1;32m    184\u001b[0m     \u001b[0;32mdef\u001b[0m \u001b[0m__getattribute__\u001b[0m\u001b[0;34m(\u001b[0m\u001b[0mself\u001b[0m\u001b[0;34m,\u001b[0m \u001b[0mitem\u001b[0m\u001b[0;34m)\u001b[0m\u001b[0;34m:\u001b[0m\u001b[0;34m\u001b[0m\u001b[0;34m\u001b[0m\u001b[0m\n\u001b[0;32m--> 185\u001b[0;31m         \u001b[0mattr\u001b[0m \u001b[0;34m=\u001b[0m \u001b[0msuper\u001b[0m\u001b[0;34m(\u001b[0m\u001b[0;34m)\u001b[0m\u001b[0;34m.\u001b[0m\u001b[0m__getattribute__\u001b[0m\u001b[0;34m(\u001b[0m\u001b[0mitem\u001b[0m\u001b[0;34m)\u001b[0m\u001b[0;34m\u001b[0m\u001b[0;34m\u001b[0m\u001b[0m\n\u001b[0m\u001b[1;32m    186\u001b[0m         \u001b[0;32mif\u001b[0m \u001b[0mitem\u001b[0m \u001b[0;34m==\u001b[0m \u001b[0;34m\"_cognite_client\"\u001b[0m \u001b[0;32mand\u001b[0m \u001b[0mattr\u001b[0m \u001b[0;32mis\u001b[0m \u001b[0;32mNone\u001b[0m\u001b[0;34m:\u001b[0m\u001b[0;34m\u001b[0m\u001b[0;34m\u001b[0m\u001b[0m\n\u001b[1;32m    187\u001b[0m             \u001b[0;32mraise\u001b[0m \u001b[0mCogniteMissingClientError\u001b[0m\u001b[0;34m\u001b[0m\u001b[0;34m\u001b[0m\u001b[0m\n",
      "\u001b[0;31mAttributeError\u001b[0m: 'TimeSeriesList' object has no attribute 'loc'"
     ]
    }
   ],
   "source": [
    "ts.loc[:,'external_id']"
   ]
  },
  {
   "cell_type": "markdown",
   "metadata": {},
   "source": [
    "## Instead they behave like python objects and lists, and you can use list comprehensions and iterators on them"
   ]
  },
  {
   "cell_type": "code",
   "execution_count": null,
   "metadata": {},
   "outputs": [],
   "source": [
    "[t.external_id for t in ts]"
   ]
  },
  {
   "cell_type": "markdown",
   "metadata": {},
   "source": [
    "## You can convert built-in types using the to_pandas method"
   ]
  },
  {
   "cell_type": "code",
   "execution_count": null,
   "metadata": {},
   "outputs": [],
   "source": [
    "ts.to_pandas()"
   ]
  },
  {
   "cell_type": "markdown",
   "metadata": {},
   "source": [
    "### See the difference? to indicate what fields exist, we do not camelCase output of built-in types, but follow this convention only when a pandas dataframe is explicitly requested"
   ]
  },
  {
   "cell_type": "code",
   "execution_count": null,
   "metadata": {},
   "outputs": [],
   "source": [
    "ts.to_pandas(camel_case=False) # you can still override this"
   ]
  },
  {
   "cell_type": "markdown",
   "metadata": {},
   "source": [
    "### Now you can use pandas methods on the dataframes, although in this case, the list comprehension method is recommended"
   ]
  },
  {
   "cell_type": "code",
   "execution_count": null,
   "metadata": {},
   "outputs": [],
   "source": [
    "df = ts.to_pandas()\n",
    "df.loc[:,'externalId'].values"
   ]
  },
  {
   "cell_type": "markdown",
   "metadata": {},
   "source": [
    "## An exception to this is datapoint retrieval, which can return dataframes directly with the retrieve_dataframe method"
   ]
  },
  {
   "cell_type": "code",
   "execution_count": null,
   "metadata": {},
   "outputs": [],
   "source": [
    "df = client.datapoints.retrieve_dataframe(external_id=[t.external_id for t in ts[:3]],\n",
    "                                          start='4w-ago',end='now',granularity='1d',aggregates=['average'],\n",
    "                                         include_aggregate_name=False)\n",
    "df"
   ]
  },
  {
   "cell_type": "markdown",
   "metadata": {},
   "source": [
    "## Of course, using a built-in datatype is also possible here"
   ]
  },
  {
   "cell_type": "code",
   "execution_count": null,
   "metadata": {},
   "outputs": [],
   "source": [
    "dpt = client.datapoints.retrieve(id=[t.id for t in ts[:3]],\n",
    "                                start='4w-ago',end='now',granularity='1d',aggregates=['average'])\n",
    "print(dpt.__class__,dpt[1].__class__)"
   ]
  },
  {
   "cell_type": "code",
   "execution_count": null,
   "metadata": {},
   "outputs": [],
   "source": [
    "dpt[1] # I am not a dataframe"
   ]
  },
  {
   "cell_type": "markdown",
   "metadata": {},
   "source": [
    "### These objects have .timestamp, .value and .[aggregate] fields to use directly"
   ]
  },
  {
   "cell_type": "code",
   "execution_count": null,
   "metadata": {},
   "outputs": [],
   "source": [
    "[(t,d) for t,d in zip(dpt[1].timestamp[:10], dpt[1].average[:10])]"
   ]
  },
  {
   "cell_type": "code",
   "execution_count": null,
   "metadata": {},
   "outputs": [],
   "source": []
  }
 ],
 "metadata": {
  "kernelspec": {
   "display_name": "Python 3",
   "language": "python",
   "name": "python3"
  },
  "language_info": {
   "codemirror_mode": {
    "name": "ipython",
    "version": 3
   },
   "file_extension": ".py",
   "mimetype": "text/x-python",
   "name": "python",
   "nbconvert_exporter": "python",
   "pygments_lexer": "ipython3",
   "version": "3.7.3"
  }
 },
 "nbformat": 4,
 "nbformat_minor": 2
}
