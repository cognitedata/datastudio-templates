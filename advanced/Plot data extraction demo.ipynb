{
 "cells": [
  {
   "cell_type": "markdown",
   "metadata": {},
   "source": [
    "# Plot data extraction demo\n",
    "\n",
    "This notebook demonstrate how to extract point data from plot using plot data extraction endpoint.\n",
    "\n",
    "Current version only support curve plots similar to the example which has no legend."
   ]
  },
  {
   "cell_type": "code",
   "execution_count": 13,
   "metadata": {},
   "outputs": [],
   "source": [
    "from jupyter_innotater import *\n",
    "import matplotlib.pyplot as plt\n",
    "from PIL import Image, ImageDraw\n",
    "import numpy as np\n",
    "from pathlib import Path\n",
    "import os\n",
    "from cognite.client import CogniteClient\n",
    "import json"
   ]
  },
  {
   "cell_type": "markdown",
   "metadata": {},
   "source": [
    "## Create a client\n",
    "\n",
    "To get access to your project, replace \"yourproject\" with your project name in the next cell. \n",
    "\n",
    "When you create the CogniteClient below, getpass will ask for your API key in an extra password field. Simply paste it in and press shift+enter."
   ]
  },
  {
   "cell_type": "code",
   "execution_count": 2,
   "metadata": {},
   "outputs": [
    {
     "name": "stderr",
     "output_type": "stream",
     "text": [
      "/workdata/cognite/projects/dshub-tutorials/.venv/lib/python3.7/site-packages/cognite/client/_cognite_client.py:67: UserWarning: You are using version 2.5.2 of the SDK, however version 2.5.3 is available. Upgrade or set the environment variable 'COGNITE_DISABLE_PYPI_VERSION_CHECK' to suppress this warning.\n",
      "  debug=debug,\n"
     ]
    }
   ],
   "source": [
    "project = 'contextualization'\n",
    "api_key = os.environ.get(\"COGNITE_CONTEXT_API_KEY\")\n",
    "client = CogniteClient(project=project,\n",
    "                       api_key=api_key,\n",
    "                       client_name=\"dshub\",\n",
    "                      )"
   ]
  },
  {
   "cell_type": "markdown",
   "metadata": {},
   "source": [
    "## Load an plot example image from CDF\n",
    "Load an image has a plot, draw a boundingbox on the axes of the plot and copy the value (4 digit values sperated by comma) of the boundingbox to the cell below."
   ]
  },
  {
   "cell_type": "code",
   "execution_count": 3,
   "metadata": {},
   "outputs": [],
   "source": [
    "plot_file_id=5912315251967698\n",
    "client.files.download(directory=\"./\", id=plot_file_id)"
   ]
  },
  {
   "cell_type": "code",
   "execution_count": 4,
   "metadata": {},
   "outputs": [
    {
     "data": {
      "application/vnd.jupyter.widget-view+json": {
       "model_id": "0084d6f3511c495c9ae0171172a279cc",
       "version_major": 2,
       "version_minor": 0
      },
      "text/plain": [
       "Innotater(children=(HBox(children=(VBox(children=(ImagePad(value=b'\\xff\\xd8\\xff\\xe0\\x00\\x10JFIF\\x00\\x01\\x01\\x0…"
      ]
     },
     "metadata": {},
     "output_type": "display_data"
    }
   ],
   "source": [
    "image = \"./example.jpg\"\n",
    "annotations = np.zeros((1, 4))\n",
    "\n",
    "Innotater(\n",
    "    ImageInnotation([image], path=\"./\"),\n",
    "    BoundingBoxInnotation(annotations),\n",
    ")"
   ]
  },
  {
   "cell_type": "markdown",
   "metadata": {},
   "source": [
    "## Crop the plot indicated by the bounding box from image "
   ]
  },
  {
   "cell_type": "code",
   "execution_count": 10,
   "metadata": {},
   "outputs": [
    {
     "data": {
      "image/png": "[encoded data removed]",
      "text/plain": [
       "<PIL.Image.Image image mode=RGB size=325x260 at 0x7FC291DA52D0>"
      ]
     },
     "execution_count": 10,
     "metadata": {},
     "output_type": "execute_result"
    }
   ],
   "source": [
    "# Copy the values of the above boundingbox here\n",
    "x1, y1, w, h = 194, 932, 325, 260\n",
    "# Please input the scale of x-axis and y-axis below, otherwise the default values will be applied\n",
    "x_min=0\n",
    "x_max=100\n",
    "y_min=0\n",
    "y_max=40\n",
    "plot_image = Image.open(image).crop((x1, y1, x1 + w, y1 + h))\n",
    "plot_image"
   ]
  },
  {
   "cell_type": "markdown",
   "metadata": {},
   "source": [
    "## Convert the image to base64 string"
   ]
  },
  {
   "cell_type": "code",
   "execution_count": 7,
   "metadata": {},
   "outputs": [],
   "source": [
    "from io import BytesIO\n",
    "import base64\n",
    "def image_to_base64_str(image: Image) -> str:\n",
    "    \"\"\"Convert image to base64 string\n",
    "    Parameters\n",
    "    ----------\n",
    "    image : image\n",
    "\n",
    "    Returns: base64 string of the image\n",
    "    -------\n",
    "\n",
    "    \"\"\"\n",
    "    im_file = BytesIO()\n",
    "    image.save(im_file, format=\"JPEG\")\n",
    "    im_bytes = im_file.getvalue()\n",
    "    return str(base64.b64encode(im_bytes), \"utf-8\")\n",
    "\n",
    "image_string = image_to_base64_str(plot_image)"
   ]
  },
  {
   "cell_type": "markdown",
   "metadata": {},
   "source": [
    "## Plot data extraction endpoint"
   ]
  },
  {
   "cell_type": "markdown",
   "metadata": {},
   "source": [
    "### post a request"
   ]
  },
  {
   "cell_type": "code",
   "execution_count": 15,
   "metadata": {},
   "outputs": [
    {
     "name": "stdout",
     "output_type": "stream",
     "text": [
      "jobId: 41120026538214\n"
     ]
    }
   ],
   "source": [
    "api_url = f\"/api/playground/projects/{project}/context/plotextractor\"\n",
    "extractdata_url = f\"{api_url}/extractdata\"\n",
    "\n",
    "post_body = {\n",
    "    \"plotImage\": image_string,\n",
    "    \"plotAxes\": {\"xMin\": x_min, \"xMax\": x_max, \"yMin\": y_min, \"yMax\": y_max},\n",
    "}\n",
    "\n",
    "res = client.post(url = extractdata_url, json = post_body)\n",
    "job_id = json.loads(res.text)[\"jobId\"]\n",
    "print(\"jobId:\", job_id)"
   ]
  },
  {
   "cell_type": "markdown",
   "metadata": {},
   "source": [
    "### get a job"
   ]
  },
  {
   "cell_type": "code",
   "execution_count": 18,
   "metadata": {},
   "outputs": [
    {
     "name": "stdout",
     "output_type": "stream",
     "text": [
      "41120026538214  Completed\n"
     ]
    }
   ],
   "source": [
    "res = client.get(url = f\"{api_url}/{job_id}\")\n",
    "while json.loads(res.text)[\"status\"] != \"Completed\":\n",
    "        time.sleep(5)\n",
    "        res = client.get(url = f\"{api_url}/{job_id}\")\n",
    "\n",
    "result = json.loads(res.text)[\"items\"]\n",
    "print(f\"{job_id}  {json.loads(res.text)['status']}\")"
   ]
  },
  {
   "cell_type": "code",
   "execution_count": 22,
   "metadata": {},
   "outputs": [
    {
     "ename": "TypeError",
     "evalue": "dump() missing 1 required positional argument: 'fp'",
     "output_type": "error",
     "traceback": [
      "\u001b[0;31m---------------------------------------------------------------------------\u001b[0m",
      "\u001b[0;31mTypeError\u001b[0m                                 Traceback (most recent call last)",
      "\u001b[0;32m<ipython-input-22-ebd8046b34cb>\u001b[0m in \u001b[0;36m<module>\u001b[0;34m\u001b[0m\n\u001b[1;32m      1\u001b[0m \u001b[0;32mimport\u001b[0m \u001b[0mpprint\u001b[0m\u001b[0;34m\u001b[0m\u001b[0;34m\u001b[0m\u001b[0m\n\u001b[0;32m----> 2\u001b[0;31m \u001b[0mpprint\u001b[0m\u001b[0;34m.\u001b[0m\u001b[0mpprint\u001b[0m\u001b[0;34m(\u001b[0m\u001b[0mjson\u001b[0m\u001b[0;34m.\u001b[0m\u001b[0mdump\u001b[0m\u001b[0;34m(\u001b[0m\u001b[0mres\u001b[0m\u001b[0;34m.\u001b[0m\u001b[0mtext\u001b[0m\u001b[0;34m)\u001b[0m\u001b[0;34m,\u001b[0m \u001b[0mindent\u001b[0m\u001b[0;34m=\u001b[0m\u001b[0;36m2\u001b[0m\u001b[0;34m)\u001b[0m\u001b[0;34m\u001b[0m\u001b[0;34m\u001b[0m\u001b[0m\n\u001b[0m",
      "\u001b[0;31mTypeError\u001b[0m: dump() missing 1 required positional argument: 'fp'"
     ]
    }
   ],
   "source": [
    "import pprint\n",
    "pprint.pprint(json.dump(res.text), indent=2)"
   ]
  },
  {
   "cell_type": "code",
   "execution_count": null,
   "metadata": {},
   "outputs": [],
   "source": []
  }
 ],
 "metadata": {
  "kernelspec": {
   "display_name": "Python 3",
   "language": "python",
   "name": "python3"
  },
  "language_info": {
   "codemirror_mode": {
    "name": "ipython",
    "version": 3
   },
   "file_extension": ".py",
   "mimetype": "text/x-python",
   "name": "python",
   "nbconvert_exporter": "python",
   "pygments_lexer": "ipython3",
   "version": "3.7.4"
  }
 },
 "nbformat": 4,
 "nbformat_minor": 4
}
