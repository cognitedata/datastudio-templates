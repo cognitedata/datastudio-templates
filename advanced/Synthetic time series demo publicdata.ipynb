{
 "cells": [
  {
   "cell_type": "markdown",
   "metadata": {},
   "source": [
    "# Synthetic time series example\n",
    "\n",
    "This notebook demonstrates the synthetic time series query feature on open industrial data"
   ]
  },
  {
   "cell_type": "code",
   "execution_count": 1,
   "metadata": {},
   "outputs": [
    {
     "name": "stdout",
     "output_type": "stream",
     "text": [
      "Open Industrial Data API-KEY: ········\n"
     ]
    },
    {
     "name": "stderr",
     "output_type": "stream",
     "text": [
      "/Users/omarakabbal/opt/anaconda3/lib/python3.8/site-packages/cognite/client/_cognite_client.py:57: UserWarning: You are using version 2.2.1 of the SDK, however version 2.4.3 is available. Upgrade or set the environment variable 'COGNITE_DISABLE_PYPI_VERSION_CHECK' to suppress this warning.\n",
      "  self._config = ClientConfig(\n"
     ]
    }
   ],
   "source": [
    "from matplotlib import pyplot as plt\n",
    "import os\n",
    "from datetime import datetime\n",
    "from getpass import getpass\n",
    "from cognite.client import CogniteClient\n",
    "\n",
    "project = 'publicdata'\n",
    "api_key = os.environ.get('PUBLICDATA_API_KEY') or getpass(\"Open Industrial Data API-KEY: \")\n",
    "client = CogniteClient(project=project,api_key=api_key,client_name=\"STS demo\")"
   ]
  },
  {
   "cell_type": "markdown",
   "metadata": {},
   "source": [
    "## In this tutorial, we will develop a simple synthetic time series for anomaly detection."
   ]
  },
  {
   "cell_type": "code",
   "execution_count": 2,
   "metadata": {},
   "outputs": [
    {
     "data": {
      "text/html": [
       "<div>\n",
       "<style scoped>\n",
       "    .dataframe tbody tr th:only-of-type {\n",
       "        vertical-align: middle;\n",
       "    }\n",
       "\n",
       "    .dataframe tbody tr th {\n",
       "        vertical-align: top;\n",
       "    }\n",
       "\n",
       "    .dataframe thead th {\n",
       "        text-align: right;\n",
       "    }\n",
       "</style>\n",
       "<table border=\"1\" class=\"dataframe\">\n",
       "  <thead>\n",
       "    <tr style=\"text-align: right;\">\n",
       "      <th></th>\n",
       "      <th>id</th>\n",
       "      <th>external_id</th>\n",
       "      <th>name</th>\n",
       "      <th>is_string</th>\n",
       "      <th>metadata</th>\n",
       "      <th>unit</th>\n",
       "      <th>asset_id</th>\n",
       "      <th>is_step</th>\n",
       "      <th>description</th>\n",
       "      <th>created_time</th>\n",
       "      <th>last_updated_time</th>\n",
       "    </tr>\n",
       "  </thead>\n",
       "  <tbody>\n",
       "    <tr>\n",
       "      <th>0</th>\n",
       "      <td>7746696627668690</td>\n",
       "      <td>pi:160267</td>\n",
       "      <td>VAL_23-KA-9101-M01-62B:X.Value</td>\n",
       "      <td>False</td>\n",
       "      <td>{'tag': 'VAL_23-KA-9101-M01-62B:X.Value', 'sca...</td>\n",
       "      <td>MW</td>\n",
       "      <td>5016064132476742</td>\n",
       "      <td>False</td>\n",
       "      <td>PH HV SWGR 1stStg Comp Mtr</td>\n",
       "      <td>1593024714298</td>\n",
       "      <td>1593512799826</td>\n",
       "    </tr>\n",
       "    <tr>\n",
       "      <th>1</th>\n",
       "      <td>5793880463497190</td>\n",
       "      <td>pi:160887</td>\n",
       "      <td>VAL_23-TT-92602:X.Value</td>\n",
       "      <td>False</td>\n",
       "      <td>{'tag': 'VAL_23-TT-92602:X.Value', 'scan': '1'...</td>\n",
       "      <td>NaN</td>\n",
       "      <td>4893464693639605</td>\n",
       "      <td>False</td>\n",
       "      <td>PH 1stStgDiscCool Gas In</td>\n",
       "      <td>1593024714298</td>\n",
       "      <td>1593512884811</td>\n",
       "    </tr>\n",
       "  </tbody>\n",
       "</table>\n",
       "</div>"
      ],
      "text/plain": [
       "[<cognite.client.data_classes.time_series.TimeSeries object at 0x7fec01645670>, <cognite.client.data_classes.time_series.TimeSeries object at 0x7fec01645880>]"
      ]
     },
     "execution_count": 2,
     "metadata": {},
     "output_type": "execute_result"
    }
   ],
   "source": [
    "ts = client.time_series.retrieve_multiple(external_ids=['pi:160267','pi:160887'])\n",
    "ts"
   ]
  },
  {
   "cell_type": "markdown",
   "metadata": {},
   "source": [
    "## We start with a simple linear regression model"
   ]
  },
  {
   "cell_type": "code",
   "execution_count": 3,
   "metadata": {},
   "outputs": [],
   "source": [
    "df = client.datapoints.retrieve_dataframe(external_id=['pi:160267','pi:160887'],\n",
    "                                  start=datetime(2019,10,1),end=datetime(2020,2,1),\n",
    "                                  aggregates=['interpolation'],granularity='10s',complete='fill,dropna')"
   ]
  },
  {
   "cell_type": "code",
   "execution_count": 4,
   "metadata": {},
   "outputs": [
    {
     "data": {
      "text/plain": [
       "[<matplotlib.lines.Line2D at 0x7febed1b4460>]"
      ]
     },
     "execution_count": 4,
     "metadata": {},
     "output_type": "execute_result"
    },
    {
     "data": {
      "image/png": "[encoded data removed]",
      "text/plain": [
       "<Figure size 432x288 with 1 Axes>"
      ]
     },
     "metadata": {
      "needs_background": "light"
     },
     "output_type": "display_data"
    }
   ],
   "source": [
    "from scipy import stats\n",
    "r = stats.linregress(df)\n",
    "plt.plot(df.iloc[-10000:,1])\n",
    "plt.plot(df.iloc[-10000:,0] * r.slope + r.intercept)"
   ]
  },
  {
   "cell_type": "markdown",
   "metadata": {},
   "source": [
    "## We define the formula via sympy for convenience, avoiding the API syntax"
   ]
  },
  {
   "cell_type": "code",
   "execution_count": 5,
   "metadata": {},
   "outputs": [],
   "source": [
    "from sympy import symbols\n",
    "x,y = symbols(['x','y'])\n",
    "y_pred = x * r.slope + r.intercept"
   ]
  },
  {
   "cell_type": "code",
   "execution_count": 6,
   "metadata": {},
   "outputs": [],
   "source": [
    "error = 100 * abs(y - y_pred) / (abs(y) + 1e-6) # relative error in %"
   ]
  },
  {
   "cell_type": "markdown",
   "metadata": {},
   "source": [
    "## let's test our query!"
   ]
  },
  {
   "cell_type": "code",
   "execution_count": 7,
   "metadata": {},
   "outputs": [
    {
     "data": {
      "text/plain": [
       "<matplotlib.axes._subplots.AxesSubplot at 0x7febdb9f94f0>"
      ]
     },
     "execution_count": 7,
     "metadata": {},
     "output_type": "execute_result"
    },
    {
     "data": {
      "image/png": "[encoded data removed]",
      "text/plain": [
       "<Figure size 432x288 with 1 Axes>"
      ]
     },
     "metadata": {
      "needs_background": "light"
     },
     "output_type": "display_data"
    }
   ],
   "source": [
    "f = \"TS{externalId:'sine'} + TS{externalId:'line'}\"\n",
    "dpt = client.datapoints.synthetic.query(expressions=error,\n",
    "                                           variables={'x':ts[0],'y':ts[1]},\n",
    "                                           start=datetime(2019,10,8),end=datetime(2019,10,12))\n",
    "df = dpt.to_pandas()\n",
    "df.columns = ['error']\n",
    "df.plot()"
   ]
  },
  {
   "cell_type": "code",
   "execution_count": 8,
   "metadata": {},
   "outputs": [],
   "source": [
    "## Curiously we have found a period with high error in our model on the first try!"
   ]
  }
 ],
 "metadata": {
  "kernelspec": {
   "display_name": "Python 3",
   "language": "python",
   "name": "python3"
  },
  "language_info": {
   "codemirror_mode": {
    "name": "ipython",
    "version": 3
   },
   "file_extension": ".py",
   "mimetype": "text/x-python",
   "name": "python",
   "nbconvert_exporter": "python",
   "pygments_lexer": "ipython3",
   "version": "3.8.3"
  }
 },
 "nbformat": 4,
 "nbformat_minor": 2
}
