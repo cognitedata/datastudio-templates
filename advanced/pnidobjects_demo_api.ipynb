{
 "cells": [
  {
   "cell_type": "code",
   "execution_count": null,
   "metadata": {},
   "outputs": [],
   "source": [
    "import os\n",
    "from cognite.client import CogniteClient\n",
    "from getpass import getpass\n",
    "project = \"publicdata\"\n",
    "api_url = f\"/api/playground/projects/{project}/context/pnidobjects\"\n",
    "api_key = getpass(\"Open Industrial Data API-KEY: \")\n",
    "c = CogniteClient(api_key=api_key,\n",
    "                       project=project, client_name=\"pnid demo\")"
   ]
  },
  {
   "cell_type": "markdown",
   "metadata": {},
   "source": [
    "## Import utils for demo purpose only"
   ]
  },
  {
   "cell_type": "code",
   "execution_count": null,
   "metadata": {},
   "outputs": [],
   "source": [
    "!pip install pdf2image\n",
    "!pip install bounding-box\n",
    "from PIL import Image\n",
    "import numpy as np\n",
    "from pdf2image import convert_from_path\n",
    "from bounding_box import bounding_box as bb\n",
    "import json\n",
    "import time\n",
    "import pprint\n",
    "pp = pprint.PrettyPrinter(indent=2)\n",
    "\n",
    "def draw_bbox(pnid_img, result):\n",
    "    img_arr = np.array(pnid_img)\n",
    "    height, width = img_arr.shape[:-1]\n",
    "    img_arr_copy = img_arr[:,:,::-1].copy()\n",
    "    for obj in result:\n",
    "        bbox = obj[\"boundingBox\"]\n",
    "        label = obj[\"type\"]\n",
    "        bb.add(\n",
    "            img_arr_copy,\n",
    "            int(bbox[\"xMin\"]*width), \n",
    "            int(bbox[\"yMin\"]*height),\n",
    "            int(bbox[\"xMax\"]*width),\n",
    "            int(bbox[\"yMax\"]*height),\n",
    "            label,\n",
    "            \"red\"\n",
    "        )\n",
    "    return Image.fromarray(img_arr_copy[:,:,::-1])"
   ]
  },
  {
   "cell_type": "markdown",
   "metadata": {},
   "source": [
    "## Download the P&ID to visualize"
   ]
  },
  {
   "cell_type": "code",
   "execution_count": null,
   "metadata": {},
   "outputs": [],
   "source": [
    "file_id = 230063753840368\n",
    "res = c.files.retrieve(id=file_id)\n",
    "print(res.name)\n",
    "c.files.download_to_path(f\"./{res.name}.pdf\", id=res.id)"
   ]
  },
  {
   "cell_type": "code",
   "execution_count": null,
   "metadata": {},
   "outputs": [],
   "source": [
    "pnid_img = convert_from_path(f\"./{res.name}.pdf\")[0]\n",
    "pnid_img"
   ]
  },
  {
   "cell_type": "markdown",
   "metadata": {},
   "source": [
    "## /findobjects endpoint"
   ]
  },
  {
   "cell_type": "code",
   "execution_count": null,
   "metadata": {},
   "outputs": [],
   "source": [
    "findobjects_url = f\"{api_url}/findobjects\"\n",
    "post_body = {\"fileId\": file_id}\n",
    "res = c.post(url = findobjects_url, json = post_body)\n",
    "job_id = json.loads(res.text)[\"jobId\"]\n",
    "print(\"jobId:\", job_id)"
   ]
  },
  {
   "cell_type": "code",
   "execution_count": null,
   "metadata": {},
   "outputs": [],
   "source": [
    "%%time\n",
    "res = c.get(url = f\"{api_url}/{job_id}\")\n",
    "\n",
    "while json.loads(res.text)[\"status\"] not in [\"Completed\", \"Failed\"]:\n",
    "    time.sleep(5)\n",
    "    print(json.loads(res.text)[\"status\"])\n",
    "    res = c.get(url = f\"{api_url}/{job_id}\")\n",
    "\n",
    "\n",
    "result = json.loads(res.text)[\"items\"]\n",
    "print(f\"found {len(result)} objects\")\n",
    "print(\"The first object parameters:\")\n",
    "pp.pprint(result[0])"
   ]
  },
  {
   "cell_type": "code",
   "execution_count": null,
   "metadata": {},
   "outputs": [],
   "source": [
    "draw_bbox(pnid_img, result)"
   ]
  },
  {
   "cell_type": "markdown",
   "metadata": {},
   "source": [
    "## /findsimilar endpoint"
   ]
  },
  {
   "cell_type": "code",
   "execution_count": null,
   "metadata": {},
   "outputs": [],
   "source": [
    "template ={\n",
    "    'boundingBox': {\n",
    "        'xMax': 0.5839555757026292,\n",
    "        'xMin': 0.5684496826835902,\n",
    "        'yMax': 0.2116289012398461,\n",
    "        'yMin': 0.1911073108165883},\n",
    "    'type': 'shared indicator'}\n",
    "x_max, x_min, y_max, y_min = template[\"boundingBox\"].values()\n",
    "width, height = pnid_img.size\n",
    "pnid_img.crop((\n",
    "    int(x_min*width),\n",
    "    int(y_min*height),\n",
    "    int(x_max*width),\n",
    "    int(y_max*height)\n",
    "))"
   ]
  },
  {
   "cell_type": "code",
   "execution_count": null,
   "metadata": {},
   "outputs": [],
   "source": [
    "findsimilar_url = f\"{api_url}/findsimilar\"\n",
    "post_body = {\n",
    "    \"fileId\": file_id,\n",
    "    \"template\": template\n",
    "}\n",
    "res = c.post(url = findsimilar_url, json = post_body)\n",
    "job_id = json.loads(res.text)[\"jobId\"]\n",
    "print(\"jobId:\", job_id)"
   ]
  },
  {
   "cell_type": "code",
   "execution_count": null,
   "metadata": {},
   "outputs": [],
   "source": [
    "%%time\n",
    "res = c.get(url = f\"{api_url}/{job_id}\")\n",
    "\n",
    "while json.loads(res.text)[\"status\"] not in [\"Completed\", \"Failed\"]:\n",
    "    time.sleep(1)\n",
    "    print(json.loads(res.text)[\"status\"])\n",
    "    res = c.get(url = f\"{api_url}/{job_id}\")\n",
    "\n",
    "\n",
    "result = json.loads(res.text)[\"items\"]\n",
    "print(f\"found {len(result)} objects\")\n",
    "print(\"The first object parameters:\")\n",
    "pp.pprint(result[0])"
   ]
  },
  {
   "cell_type": "code",
   "execution_count": null,
   "metadata": {},
   "outputs": [],
   "source": [
    "draw_bbox(pnid_img, result)"
   ]
  }
 ],
 "metadata": {
  "kernelspec": {
   "display_name": "Python 3",
   "language": "python",
   "name": "python3"
  },
  "language_info": {
   "codemirror_mode": {
    "name": "ipython",
    "version": 3
   },
   "file_extension": ".py",
   "mimetype": "text/x-python",
   "name": "python",
   "nbconvert_exporter": "python",
   "pygments_lexer": "ipython3",
   "version": "3.7.6"
  }
 },
 "nbformat": 4,
 "nbformat_minor": 4
}