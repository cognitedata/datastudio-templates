{
 "cells": [
  {
   "cell_type": "code",
   "execution_count": 4,
   "metadata": {},
   "outputs": [],
   "source": [
    "%load_ext autoreload\n",
    "%autoreload 2"
   ]
  },
  {
   "cell_type": "code",
   "execution_count": 5,
   "metadata": {},
   "outputs": [],
   "source": [
    "import os\n",
    "import json\n",
    "\n",
    "import numpy as np\n",
    "import pandas as pd\n",
    "from cognite.client import CogniteClient\n",
    "\n",
    "from cognite.client.data_classes.three_d import ThreeDAssetMapping\n",
    "\n",
    "from cognite.datastudio.entity_matcher import EntityMatcher"
   ]
  },
  {
   "cell_type": "code",
   "execution_count": 6,
   "metadata": {},
   "outputs": [],
   "source": [
    "from utils import chunk_create_rules_df, chunk_predict, get_matches_with_rules"
   ]
  },
  {
   "cell_type": "code",
   "execution_count": 7,
   "metadata": {},
   "outputs": [],
   "source": [
    "project = \"akerbp\"\n",
    "api_key_name = \"AKERBP_API_KEY\""
   ]
  },
  {
   "cell_type": "code",
   "execution_count": 9,
   "metadata": {},
   "outputs": [],
   "source": [
    "# In case you need to add api-key\n",
    "#from add_client_api_key import ClientApiKeyWidget\n",
    "#client_api_key_widget = ClientApiKeyWidget(api_key_name=api_key_name, project=project)"
   ]
  },
  {
   "cell_type": "code",
   "execution_count": 10,
   "metadata": {},
   "outputs": [
    {
     "name": "stderr",
     "output_type": "stream",
     "text": [
      "/home/alina/Documents/entity_matching_templates/.venv/lib/python3.7/site-packages/cognite/client/_cognite_client.py:65: UserWarning: You are using version 1.4.8 of the SDK, however version 1.4.9 is available. Upgrade or set the environment variable 'COGNITE_DISABLE_PYPI_VERSION_CHECK' to suppress this warning.\n",
      "  debug=debug,\n"
     ]
    }
   ],
   "source": [
    "client = CogniteClient(os.environ[api_key_name], project, \"local-jupyter-notebook\")"
   ]
  },
  {
   "cell_type": "code",
   "execution_count": 11,
   "metadata": {},
   "outputs": [],
   "source": [
    "# define 3d model_id and revision\n",
    "model_id = 1078941578276888\n",
    "revision_id = 506407845865623\n",
    "\n",
    "# define root_id for assets\n",
    "root_id = 8129784932439587\n",
    "\n",
    "#define a name to store thre predicted result\n",
    "entity_matcher_results_file = \"enma_skarv_fpso.json\""
   ]
  },
  {
   "cell_type": "code",
   "execution_count": null,
   "metadata": {},
   "outputs": [],
   "source": [
    "# we provide functions to install 3d-nodes, assets and asset-mappings\n",
    "from data_load_cdf import load_assets, load_threednodes, filter_df_threednodes, load_asset_mappings"
   ]
  },
  {
   "cell_type": "code",
   "execution_count": 12,
   "metadata": {},
   "outputs": [
    {
     "name": "stdout",
     "output_type": "stream",
     "text": [
      "Loading data from local...\n",
      "Filtering 3D-nodes:\n",
      "361909 initially loaded\n",
      "361909 after filtering on empty name\n",
      "361909 after dropping duplicates\n",
      "361909 after filtering on EQUIPMENT\n",
      "361909 after filtering on BRANCH\n",
      "361909 after filtering on STRUCTURE\n",
      "361909 after filtering on  of \n",
      "Loading data from local...\n"
     ]
    }
   ],
   "source": [
    "# download 3d nodes, it might take time\n",
    "df_threednodes = load_threednodes(client, model_id, revision_id)\n",
    "# filter the names of the 3d nodes that do not need contexualization\n",
    "df_threednodes = filter_df_threednodes(df_threednodes, key_words=(\"EQUIPMENT\", \"BRANCH\", \"STRUCTURE\", \" of \"))\n",
    "df_threednodes.rename(columns={\"name\": \"left_side_name\"}, inplace=True)"
   ]
  },
  {
   "cell_type": "code",
   "execution_count": null,
   "metadata": {},
   "outputs": [],
   "source": [
    "# download assets\n",
    "df_assets = load_assets(client, root_id).rename(columns={\"name\": \"right_side_name\"})"
   ]
  },
  {
   "cell_type": "code",
   "execution_count": 13,
   "metadata": {},
   "outputs": [
    {
     "name": "stdout",
     "output_type": "stream",
     "text": [
      "Loading data from local...\n"
     ]
    }
   ],
   "source": [
    "#download existing asset mappings from the 3d model\n",
    "df_asset_mappings = load_asset_mappings(client, model_id, revision_id)"
   ]
  },
  {
   "cell_type": "code",
   "execution_count": 14,
   "metadata": {},
   "outputs": [],
   "source": [
    "# Since df_asset_mappings includes only IDs,\n",
    "# in order to get the names we join on the \n",
    "# df_assets, df_threednodes including available respective IDs and names.\n",
    "df_existing_matches = (\n",
    "        df_asset_mappings[[\"nodeId\", \"assetId\"]]\n",
    "        .merge(\n",
    "            df_assets[[\"id\", \"right_side_name\"]],\n",
    "            how=\"left\",\n",
    "            left_on=\"assetId\",\n",
    "            right_on=\"id\",\n",
    "        )\n",
    "        .drop(columns=\"id\")\n",
    "        .merge(\n",
    "            df_threednodes[[\"id\", \"left_side_name\"]],\n",
    "            how=\"left\",\n",
    "            left_on=\"nodeId\",\n",
    "            right_on=\"id\",\n",
    "        )[[\"left_side_name\", \"right_side_name\"]]\n",
    "    )"
   ]
  },
  {
   "cell_type": "code",
   "execution_count": 15,
   "metadata": {},
   "outputs": [],
   "source": [
    "#initialize the entity matcher\n",
    "entity_matcher = EntityMatcher(client)"
   ]
  },
  {
   "cell_type": "code",
   "execution_count": 98,
   "metadata": {},
   "outputs": [
    {
     "name": "stdout",
     "output_type": "stream",
     "text": [
      "Finished with chunk nr. 0 .\n"
     ]
    }
   ],
   "source": [
    "# create rules form the existing mappings if exist\n",
    "df_matches = \\\n",
    "    df_existing_matches[[\"left_side_name\", \"right_side_name\"]]\\\n",
    "    .dropna()\\\n",
    "    .rename(columns = {\"left_side_name\": \"input\", \"right_side_name\": \"predicted\"})\n",
    "df_matches[\"score\"] = 1.0\n",
    "\n",
    "pd_rules_from_existing = chunk_create_rules_df(entity_matcher, df_matches.to_dict('records'), size=100000)"
   ]
  },
  {
   "cell_type": "code",
   "execution_count": 68,
   "metadata": {},
   "outputs": [
    {
     "name": "stdout",
     "output_type": "stream",
     "text": [
      "Finished with chunk nr. 0 .\n",
      "Finished with chunk nr. 1 .\n",
      "Finished with chunk nr. 2 .\n",
      "Finished with chunk nr. 3 .\n"
     ]
    }
   ],
   "source": [
    "# make predictions \n",
    "if os.path.exists(entity_matcher_results_file):\n",
    "    print(\"Loading predicted from local...\")\n",
    "    with open(entity_matcher_results_file, \"r\") as f:\n",
    "        predicted_matches = json.load(f)\n",
    "else:\n",
    "    model = entity_matcher.fit(df_assets[\"right_side_name\"].tolist())\n",
    "    predicted_matches = chunk_predict(model, df_threednodes[\"left_side_name\"].tolist(), 100000)\n",
    "    # store all predictions in a file\n",
    "    with open(entity_matcher_results_file, \"w\") as f:\n",
    "        json.dump(predicted_matches, f)"
   ]
  },
  {
   "cell_type": "code",
   "execution_count": 133,
   "metadata": {},
   "outputs": [],
   "source": [
    "# predicted_matches filter on NAs, \n",
    "# NEEDreset index to match order before creating rules\n",
    "df_predicted_matches = pd.DataFrame.from_dict(predicted_matches).dropna().reset_index(drop=True)"
   ]
  },
  {
   "cell_type": "code",
   "execution_count": 109,
   "metadata": {},
   "outputs": [
    {
     "name": "stdout",
     "output_type": "stream",
     "text": [
      "Finished with chunk nr. 0 .\n",
      "Finished with chunk nr. 1 .\n",
      "Finished with chunk nr. 2 .\n",
      "Finished with chunk nr. 3 .\n"
     ]
    }
   ],
   "source": [
    "# create rules for predicted matches\n",
    "pd_rules_from_predicted = chunk_create_rules_df(entity_matcher, df_predicted_matches.to_dict('records'), size=100000)"
   ]
  },
  {
   "cell_type": "code",
   "execution_count": 142,
   "metadata": {
    "scrolled": true
   },
   "outputs": [],
   "source": [
    "# associate matches with rules\n",
    "df_predicted_with_rules = get_matches_with_rules(df_predicted_matches, pd_rules_from_predicted)"
   ]
  },
  {
   "cell_type": "code",
   "execution_count": 149,
   "metadata": {},
   "outputs": [
    {
     "data": {
      "text/html": [
       "<div>\n",
       "<style scoped>\n",
       "    .dataframe tbody tr th:only-of-type {\n",
       "        vertical-align: middle;\n",
       "    }\n",
       "\n",
       "    .dataframe tbody tr th {\n",
       "        vertical-align: top;\n",
       "    }\n",
       "\n",
       "    .dataframe thead th {\n",
       "        text-align: right;\n",
       "    }\n",
       "</style>\n",
       "<table border=\"1\" class=\"dataframe\">\n",
       "  <thead>\n",
       "    <tr style=\"text-align: right;\">\n",
       "      <th></th>\n",
       "      <th>input</th>\n",
       "      <th>predicted</th>\n",
       "      <th>score</th>\n",
       "      <th>inputPattern</th>\n",
       "      <th>predictPattern</th>\n",
       "      <th>numMatches</th>\n",
       "      <th>avgScore</th>\n",
       "      <th>asset_id</th>\n",
       "      <th>node_id</th>\n",
       "    </tr>\n",
       "  </thead>\n",
       "  <tbody>\n",
       "    <tr>\n",
       "      <th>273641</th>\n",
       "      <td>/PS-P300-0407/SPNT</td>\n",
       "      <td>PS-P300-2772</td>\n",
       "      <td>0.75000</td>\n",
       "      <td>/[L1]-[L2][D3]-D/L</td>\n",
       "      <td>[L1]-[L2][D3]-D</td>\n",
       "      <td>15536</td>\n",
       "      <td>0.755997</td>\n",
       "      <td>606648530772463</td>\n",
       "      <td>8835667779331163</td>\n",
       "    </tr>\n",
       "    <tr>\n",
       "      <th>111869</th>\n",
       "      <td>/PS-U800-2727/FRAM-02/MAIN</td>\n",
       "      <td>U800-S-3000</td>\n",
       "      <td>0.40825</td>\n",
       "      <td>/L-[L1][D2]-D/L-D/L</td>\n",
       "      <td>[L1][D2]-L-D</td>\n",
       "      <td>3778</td>\n",
       "      <td>0.435028</td>\n",
       "      <td>381752738470181</td>\n",
       "      <td>3963993522999103</td>\n",
       "    </tr>\n",
       "    <tr>\n",
       "      <th>164643</th>\n",
       "      <td>/NOZZ-EQP-45-30-14</td>\n",
       "      <td>30</td>\n",
       "      <td>0.57735</td>\n",
       "      <td>/L-L-D-[D1]-D</td>\n",
       "      <td>[D1]</td>\n",
       "      <td>42</td>\n",
       "      <td>0.580440</td>\n",
       "      <td>4363862858249661</td>\n",
       "      <td>8047697019963956</td>\n",
       "    </tr>\n",
       "    <tr>\n",
       "      <th>225113</th>\n",
       "      <td>/PS-P500-0514/FRAM-01/MAIN/TMPL/BEAM-A</td>\n",
       "      <td>84-EB-500A-P01</td>\n",
       "      <td>0.61721</td>\n",
       "      <td>/L-[L1][D2]-D/L-[D3]/L/L/L-[L4]</td>\n",
       "      <td>D-L-[D2][L4]-[L1][D3]</td>\n",
       "      <td>13087</td>\n",
       "      <td>0.619927</td>\n",
       "      <td>1114763551659361</td>\n",
       "      <td>4849656034816847</td>\n",
       "    </tr>\n",
       "    <tr>\n",
       "      <th>63450</th>\n",
       "      <td>/PS-P500-0803/FRAM-01/CONN</td>\n",
       "      <td>PS-P500-1219</td>\n",
       "      <td>0.67082</td>\n",
       "      <td>/[L1]-[L2][D3]-D/L-D/L</td>\n",
       "      <td>[L1]-[L2][D3]-D</td>\n",
       "      <td>26928</td>\n",
       "      <td>0.651369</td>\n",
       "      <td>222810173061777</td>\n",
       "      <td>7069670572936062</td>\n",
       "    </tr>\n",
       "  </tbody>\n",
       "</table>\n",
       "</div>"
      ],
      "text/plain": [
       "                                         input       predicted    score  \\\n",
       "273641                      /PS-P300-0407/SPNT    PS-P300-2772  0.75000   \n",
       "111869              /PS-U800-2727/FRAM-02/MAIN     U800-S-3000  0.40825   \n",
       "164643                      /NOZZ-EQP-45-30-14              30  0.57735   \n",
       "225113  /PS-P500-0514/FRAM-01/MAIN/TMPL/BEAM-A  84-EB-500A-P01  0.61721   \n",
       "63450               /PS-P500-0803/FRAM-01/CONN    PS-P500-1219  0.67082   \n",
       "\n",
       "                           inputPattern         predictPattern  numMatches  \\\n",
       "273641               /[L1]-[L2][D3]-D/L        [L1]-[L2][D3]-D       15536   \n",
       "111869              /L-[L1][D2]-D/L-D/L           [L1][D2]-L-D        3778   \n",
       "164643                    /L-L-D-[D1]-D                   [D1]          42   \n",
       "225113  /L-[L1][D2]-D/L-[D3]/L/L/L-[L4]  D-L-[D2][L4]-[L1][D3]       13087   \n",
       "63450            /[L1]-[L2][D3]-D/L-D/L        [L1]-[L2][D3]-D       26928   \n",
       "\n",
       "        avgScore          asset_id           node_id  \n",
       "273641  0.755997   606648530772463  8835667779331163  \n",
       "111869  0.435028   381752738470181  3963993522999103  \n",
       "164643  0.580440  4363862858249661  8047697019963956  \n",
       "225113  0.619927  1114763551659361  4849656034816847  \n",
       "63450   0.651369   222810173061777  7069670572936062  "
      ]
     },
     "execution_count": 149,
     "metadata": {},
     "output_type": "execute_result"
    }
   ],
   "source": [
    "# assosicate predicted results with IDs\n",
    "df_predicted_results_raw = df_predicted_with_rules\\\n",
    "    .merge(df_assets, left_on=\"predicted\", right_on=\"right_side_name\", how=\"inner\")\\\n",
    "    .drop(columns=[\"right_side_name\"])\\\n",
    "    .rename(columns={\"id\":\"asset_id\"})\\\n",
    "    .merge(df_threednodes, left_on=\"input\", right_on=\"left_side_name\", how=\"inner\")\\\n",
    "    .drop(columns=[\"left_side_name\"])\\\n",
    "    .rename(columns={\"id\":\"node_id\"})\n",
    "df_predicted_results_raw.sample(5)"
   ]
  },
  {
   "cell_type": "code",
   "execution_count": 150,
   "metadata": {
    "scrolled": true
   },
   "outputs": [
    {
     "data": {
      "text/html": [
       "<div>\n",
       "<style scoped>\n",
       "    .dataframe tbody tr th:only-of-type {\n",
       "        vertical-align: middle;\n",
       "    }\n",
       "\n",
       "    .dataframe tbody tr th {\n",
       "        vertical-align: top;\n",
       "    }\n",
       "\n",
       "    .dataframe thead th {\n",
       "        text-align: right;\n",
       "    }\n",
       "</style>\n",
       "<table border=\"1\" class=\"dataframe\">\n",
       "  <thead>\n",
       "    <tr style=\"text-align: right;\">\n",
       "      <th></th>\n",
       "      <th>input</th>\n",
       "      <th>predicted</th>\n",
       "      <th>score</th>\n",
       "      <th>inputPattern</th>\n",
       "      <th>predictPattern</th>\n",
       "      <th>numMatches</th>\n",
       "      <th>avgScore</th>\n",
       "      <th>asset_id</th>\n",
       "      <th>node_id</th>\n",
       "      <th>numMatchesExisting</th>\n",
       "      <th>existing_match</th>\n",
       "    </tr>\n",
       "  </thead>\n",
       "  <tbody>\n",
       "    <tr>\n",
       "      <th>1117</th>\n",
       "      <td>/46-C-6006..</td>\n",
       "      <td>46-C-6006</td>\n",
       "      <td>1.00000</td>\n",
       "      <td>/[D1]-[L2]-[D3]</td>\n",
       "      <td>[D1]-[L2]-[D3]</td>\n",
       "      <td>8691</td>\n",
       "      <td>1.000000</td>\n",
       "      <td>4617634349308497</td>\n",
       "      <td>5371319586913922</td>\n",
       "      <td>8645</td>\n",
       "      <td>NaN</td>\n",
       "    </tr>\n",
       "    <tr>\n",
       "      <th>8660</th>\n",
       "      <td>/65-CT-701.</td>\n",
       "      <td>65-CT-701</td>\n",
       "      <td>1.00000</td>\n",
       "      <td>/[D1]-[L2]-[D3]</td>\n",
       "      <td>[D1]-[L2]-[D3]</td>\n",
       "      <td>8691</td>\n",
       "      <td>1.000000</td>\n",
       "      <td>4580658744499941</td>\n",
       "      <td>7057340498779513</td>\n",
       "      <td>8645</td>\n",
       "      <td>NaN</td>\n",
       "    </tr>\n",
       "    <tr>\n",
       "      <th>27093</th>\n",
       "      <td>/29-CZ-001/WETCOG</td>\n",
       "      <td>40-CZ-001</td>\n",
       "      <td>0.66667</td>\n",
       "      <td>/D-[L1]-[D2]/L</td>\n",
       "      <td>D-[L1]-[D2]</td>\n",
       "      <td>15</td>\n",
       "      <td>0.642851</td>\n",
       "      <td>926483281787503</td>\n",
       "      <td>8056766072949524</td>\n",
       "      <td>1</td>\n",
       "      <td>NaN</td>\n",
       "    </tr>\n",
       "    <tr>\n",
       "      <th>8897</th>\n",
       "      <td>/13-V-6090.</td>\n",
       "      <td>13-V-6090</td>\n",
       "      <td>1.00000</td>\n",
       "      <td>/[D1]-[L2]-[D3]</td>\n",
       "      <td>[D1]-[L2]-[D3]</td>\n",
       "      <td>8691</td>\n",
       "      <td>1.000000</td>\n",
       "      <td>2448976479245900</td>\n",
       "      <td>2579392606278530</td>\n",
       "      <td>8645</td>\n",
       "      <td>NaN</td>\n",
       "    </tr>\n",
       "    <tr>\n",
       "      <th>21663</th>\n",
       "      <td>/27-V-6019</td>\n",
       "      <td>27-V-1543</td>\n",
       "      <td>0.66667</td>\n",
       "      <td>/[D1]-[L2]-D</td>\n",
       "      <td>[D1]-[L2]-D</td>\n",
       "      <td>106</td>\n",
       "      <td>0.666670</td>\n",
       "      <td>940266011560</td>\n",
       "      <td>5699151852329016</td>\n",
       "      <td>1</td>\n",
       "      <td>NaN</td>\n",
       "    </tr>\n",
       "  </tbody>\n",
       "</table>\n",
       "</div>"
      ],
      "text/plain": [
       "                   input  predicted    score     inputPattern  predictPattern  \\\n",
       "1117        /46-C-6006..  46-C-6006  1.00000  /[D1]-[L2]-[D3]  [D1]-[L2]-[D3]   \n",
       "8660         /65-CT-701.  65-CT-701  1.00000  /[D1]-[L2]-[D3]  [D1]-[L2]-[D3]   \n",
       "27093  /29-CZ-001/WETCOG  40-CZ-001  0.66667   /D-[L1]-[D2]/L     D-[L1]-[D2]   \n",
       "8897         /13-V-6090.  13-V-6090  1.00000  /[D1]-[L2]-[D3]  [D1]-[L2]-[D3]   \n",
       "21663         /27-V-6019  27-V-1543  0.66667     /[D1]-[L2]-D     [D1]-[L2]-D   \n",
       "\n",
       "       numMatches  avgScore          asset_id           node_id  \\\n",
       "1117         8691  1.000000  4617634349308497  5371319586913922   \n",
       "8660         8691  1.000000  4580658744499941  7057340498779513   \n",
       "27093          15  0.642851   926483281787503  8056766072949524   \n",
       "8897         8691  1.000000  2448976479245900  2579392606278530   \n",
       "21663         106  0.666670      940266011560  5699151852329016   \n",
       "\n",
       "       numMatchesExisting existing_match  \n",
       "1117                 8645            NaN  \n",
       "8660                 8645            NaN  \n",
       "27093                   1            NaN  \n",
       "8897                 8645            NaN  \n",
       "21663                   1            NaN  "
      ]
     },
     "execution_count": 150,
     "metadata": {},
     "output_type": "execute_result"
    }
   ],
   "source": [
    "# comment or uncomment for different filtering\n",
    "df_predicted_results = df_predicted_results_raw.copy()\n",
    "\n",
    "# filter on the score value \n",
    "df_predicted_result = df_predicted_result[df_predicted_result[\"score\"] > 0.0]\n",
    "\n",
    "# filter on the avgScore value\n",
    "df_predicted_result = df_predicted_result[df_predicted_result[\"avgScore\"] > 0.0]\n",
    "\n",
    "# filter by the number of matcher per rule\n",
    "df_predicted_result = df_predicted_result[df_predicted_result[\"numMatches\"] > 0]\n",
    "\n",
    "# filter by merging on existing rules only\n",
    "df_predicted_result = df_predicted_result.merge(pd_rules_from_existing\\\n",
    "    .rename(columns={\"numMatches\": \"numMatchesExisting\"})\n",
    "    .drop(columns=[\"avgScore\",\"matchIndex\"]), on=[\"inputPattern\", \"predictPattern\"],\n",
    "    how=\"inner\")\n",
    "\n",
    "# filter out input with existing asset mappings\n",
    "df_predicted_result = df_predicted_result\\\n",
    "    .merge(df_existing_matches.rename(columns={\"right_side_name\": \"existing_match\"}), left_on=[\"input\"], right_on=[\"left_side_name\"], how=\"left\")\\\n",
    "    .drop(columns=[\"left_side_name\"])\n",
    "df_predicted_result= df_predicted_result[df_predicted_result[\"existing_match\"].isna()]\n",
    "\n",
    "# filter based on a list of manual rules\n",
    "\"\"\"\n",
    "rules_from_list = [(\"/[D1]-[L2]-[D3]\", \"[D1]-[L2]-[D3]\")]\n",
    "def get_rule_tuple(row):\n",
    "    return (row[\"inputPattern\"], row[\"predictPattern\"])\n",
    "\n",
    "df_predicted_result = df_predicted_result[df_predicted_result.apply(get_rule_tuple, axis=1)\\\n",
    "    .isin(rules_from_list)]\n",
    "\"\"\"\n",
    "\n",
    "df_predicted_result.sample(5)"
   ]
  },
  {
   "cell_type": "code",
   "execution_count": 153,
   "metadata": {},
   "outputs": [
    {
     "name": "stdout",
     "output_type": "stream",
     "text": [
      "166\n"
     ]
    },
    {
     "data": {
      "text/plain": [
       "[{'node_id': 1388685240252594, 'asset_id': 6058605378531024},\n",
       " {'node_id': 3644220755669401, 'asset_id': 332221397725721},\n",
       " {'node_id': 5371319586913922, 'asset_id': 4617634349308497},\n",
       " {'node_id': 8658613293743961, 'asset_id': 7513670350185809},\n",
       " {'node_id': 6178893682177146, 'asset_id': 8328160876101782},\n",
       " {'node_id': 521307451842620, 'asset_id': 3616266713471915},\n",
       " {'node_id': 6245595512554181, 'asset_id': 1329591692274365},\n",
       " {'node_id': 8890325298752301, 'asset_id': 8546797805361910},\n",
       " {'node_id': 1592669954683812, 'asset_id': 8242396260938696},\n",
       " {'node_id': 8063511847194956, 'asset_id': 8433968346665436},\n",
       " {'node_id': 905691562238341, 'asset_id': 7788302680161738},\n",
       " {'node_id': 2596085698585769, 'asset_id': 8879001088864882},\n",
       " {'node_id': 6501567433145041, 'asset_id': 6021432548043362},\n",
       " {'node_id': 5317066354543971, 'asset_id': 3301957454959280},\n",
       " {'node_id': 268321040081547, 'asset_id': 5506288362746893},\n",
       " {'node_id': 6503287689645967, 'asset_id': 6174613176572695},\n",
       " {'node_id': 6579955447072641, 'asset_id': 7531086822129326},\n",
       " {'node_id': 3626590756062564, 'asset_id': 3869489803595701},\n",
       " {'node_id': 3135189193943487, 'asset_id': 3295353386937989},\n",
       " {'node_id': 6967078765740475, 'asset_id': 7609821241048134},\n",
       " {'node_id': 8971440722177433, 'asset_id': 1998760612234216},\n",
       " {'node_id': 8782107685003361, 'asset_id': 2415882726840825},\n",
       " {'node_id': 3855989254991635, 'asset_id': 3345942952245796},\n",
       " {'node_id': 2418300498976254, 'asset_id': 3228752368696284},\n",
       " {'node_id': 3190547738079042, 'asset_id': 1771110139166508},\n",
       " {'node_id': 7057340498779513, 'asset_id': 4580658744499941},\n",
       " {'node_id': 8896851477433358, 'asset_id': 8213109403116916},\n",
       " {'node_id': 4740523724186675, 'asset_id': 3294811374436844},\n",
       " {'node_id': 822856838805074, 'asset_id': 2193170932228562},\n",
       " {'node_id': 2651063028441912, 'asset_id': 1213523098668592},\n",
       " {'node_id': 5124098571384580, 'asset_id': 4198626647508725},\n",
       " {'node_id': 5920626765628789, 'asset_id': 2573387158956261},\n",
       " {'node_id': 2579392606278530, 'asset_id': 2448976479245900},\n",
       " {'node_id': 6485178212409749, 'asset_id': 7162515527394986},\n",
       " {'node_id': 8416806733156045, 'asset_id': 1351866702637992},\n",
       " {'node_id': 359710871145181, 'asset_id': 1543765009997328},\n",
       " {'node_id': 6000021572182126, 'asset_id': 4774209519863861},\n",
       " {'node_id': 8680945365472733, 'asset_id': 4681308235786180},\n",
       " {'node_id': 925024732979557, 'asset_id': 7304017076198125},\n",
       " {'node_id': 8774594472505435, 'asset_id': 1357527436762636},\n",
       " {'node_id': 5669041777145105, 'asset_id': 8612908828100388},\n",
       " {'node_id': 4098938815235769, 'asset_id': 3346841165875689},\n",
       " {'node_id': 8646198900213922, 'asset_id': 7583058645756380},\n",
       " {'node_id': 512425895145616, 'asset_id': 952319971290640},\n",
       " {'node_id': 5258128048350148, 'asset_id': 679282604661973},\n",
       " {'node_id': 6424112637710726, 'asset_id': 3448214238361197},\n",
       " {'node_id': 1977546114606586, 'asset_id': 23238432042128},\n",
       " {'node_id': 471165693104824, 'asset_id': 1236694999834343},\n",
       " {'node_id': 8826157188642327, 'asset_id': 129636796853090},\n",
       " {'node_id': 3809514571437492, 'asset_id': 129636796853090},\n",
       " {'node_id': 531210523349965, 'asset_id': 129636796853090},\n",
       " {'node_id': 2626365003303086, 'asset_id': 280624130113237},\n",
       " {'node_id': 4567018600288873, 'asset_id': 2439115978324},\n",
       " {'node_id': 4494120870010101, 'asset_id': 2439115978324},\n",
       " {'node_id': 5844652541663283, 'asset_id': 2439115978324},\n",
       " {'node_id': 7582292084934940, 'asset_id': 44275886800470},\n",
       " {'node_id': 6648731584541699, 'asset_id': 44275886800470},\n",
       " {'node_id': 467470087386320, 'asset_id': 44275886800470},\n",
       " {'node_id': 4195314382489544, 'asset_id': 44275886800470},\n",
       " {'node_id': 8783612084504748, 'asset_id': 44275886800470},\n",
       " {'node_id': 3561205652860136, 'asset_id': 44275886800470},\n",
       " {'node_id': 983219358942038, 'asset_id': 416391563397},\n",
       " {'node_id': 1879704327807315, 'asset_id': 102135270305390},\n",
       " {'node_id': 6351911879268063, 'asset_id': 102135270305390},\n",
       " {'node_id': 3021313444080476, 'asset_id': 102135270305390},\n",
       " {'node_id': 6117729516548673, 'asset_id': 102135270305390},\n",
       " {'node_id': 8534592489698596, 'asset_id': 102135270305390},\n",
       " {'node_id': 5850312676698391, 'asset_id': 102135270305390},\n",
       " {'node_id': 1089701982867153, 'asset_id': 329359259719874},\n",
       " {'node_id': 3357173895840471, 'asset_id': 46029875689053},\n",
       " {'node_id': 3460646170113987, 'asset_id': 46029875689053},\n",
       " {'node_id': 3118998157453743, 'asset_id': 484390248491221},\n",
       " {'node_id': 6784995123722943, 'asset_id': 484390248491221},\n",
       " {'node_id': 831301320046164, 'asset_id': 484390248491221},\n",
       " {'node_id': 8410567922130710, 'asset_id': 484390248491221},\n",
       " {'node_id': 6820274199283698, 'asset_id': 484390248491221},\n",
       " {'node_id': 8523282282613039, 'asset_id': 484390248491221},\n",
       " {'node_id': 5788338663341359, 'asset_id': 484390248491221},\n",
       " {'node_id': 5156381482827034, 'asset_id': 484390248491221},\n",
       " {'node_id': 2487552685823683, 'asset_id': 484390248491221},\n",
       " {'node_id': 4858048430353889, 'asset_id': 484390248491221},\n",
       " {'node_id': 7337121628987503, 'asset_id': 357492130789592},\n",
       " {'node_id': 4686990751355762, 'asset_id': 46090441175994},\n",
       " {'node_id': 7201968516305654, 'asset_id': 46090441175994},\n",
       " {'node_id': 2731546936720486, 'asset_id': 46090441175994},\n",
       " {'node_id': 2050286323207031, 'asset_id': 46090441175994},\n",
       " {'node_id': 5325129752094730, 'asset_id': 46090441175994},\n",
       " {'node_id': 5733592982499862, 'asset_id': 57567781380602},\n",
       " {'node_id': 2044515352371561, 'asset_id': 57567781380602},\n",
       " {'node_id': 7959471834165774, 'asset_id': 57567781380602},\n",
       " {'node_id': 1717670666469982, 'asset_id': 57567781380602},\n",
       " {'node_id': 3600012505789251, 'asset_id': 57567781380602},\n",
       " {'node_id': 4490373702148520, 'asset_id': 57567781380602},\n",
       " {'node_id': 4187421886918919, 'asset_id': 57567781380602},\n",
       " {'node_id': 4329054612949787, 'asset_id': 57567781380602},\n",
       " {'node_id': 3742210114488312, 'asset_id': 57567781380602},\n",
       " {'node_id': 653116113115633, 'asset_id': 57567781380602},\n",
       " {'node_id': 1224716459943944, 'asset_id': 57567781380602},\n",
       " {'node_id': 6076377640949886, 'asset_id': 57567781380602},\n",
       " {'node_id': 5145312063291829, 'asset_id': 57567781380602},\n",
       " {'node_id': 7841839852558499, 'asset_id': 57567781380602},\n",
       " {'node_id': 7461694651113284, 'asset_id': 101663294976483},\n",
       " {'node_id': 3850018413483944, 'asset_id': 2398806256336387},\n",
       " {'node_id': 1063922856713101, 'asset_id': 6027599769304},\n",
       " {'node_id': 8662116137961505, 'asset_id': 16604503626633},\n",
       " {'node_id': 1896274738646843, 'asset_id': 16604503626633},\n",
       " {'node_id': 6042199121237027, 'asset_id': 968727807990635},\n",
       " {'node_id': 3477558512895600, 'asset_id': 36336524288616},\n",
       " {'node_id': 4862812441291133, 'asset_id': 36336524288616},\n",
       " {'node_id': 1951725467911792, 'asset_id': 18212392102779},\n",
       " {'node_id': 313657697777847, 'asset_id': 18212392102779},\n",
       " {'node_id': 6630629618786543, 'asset_id': 121068691291044},\n",
       " {'node_id': 40893817659654, 'asset_id': 98718644910383},\n",
       " {'node_id': 3302413253500705, 'asset_id': 466186192613038},\n",
       " {'node_id': 3399678789072302, 'asset_id': 1968350899653659},\n",
       " {'node_id': 8447106384212067, 'asset_id': 1968350899653659},\n",
       " {'node_id': 1358326322873367, 'asset_id': 940266011560},\n",
       " {'node_id': 8329889251798432, 'asset_id': 940266011560},\n",
       " {'node_id': 8429851715076666, 'asset_id': 940266011560},\n",
       " {'node_id': 5699151852329016, 'asset_id': 940266011560},\n",
       " {'node_id': 4028724859277826, 'asset_id': 940266011560},\n",
       " {'node_id': 1716522296440844, 'asset_id': 940266011560},\n",
       " {'node_id': 2985159446174296, 'asset_id': 940266011560},\n",
       " {'node_id': 6013074958894715, 'asset_id': 940266011560},\n",
       " {'node_id': 155116738058506, 'asset_id': 940266011560},\n",
       " {'node_id': 6671673459852946, 'asset_id': 940266011560},\n",
       " {'node_id': 2312696306980924, 'asset_id': 940266011560},\n",
       " {'node_id': 729006426863368, 'asset_id': 940266011560},\n",
       " {'node_id': 1765558367892504, 'asset_id': 31891970493836},\n",
       " {'node_id': 3390013382886083, 'asset_id': 31891970493836},\n",
       " {'node_id': 4475262784849046, 'asset_id': 31891970493836},\n",
       " {'node_id': 7290192529316999, 'asset_id': 11151669524798},\n",
       " {'node_id': 8012825684173623, 'asset_id': 19051754233171},\n",
       " {'node_id': 8646888458758884, 'asset_id': 19051754233171},\n",
       " {'node_id': 7150166431604002, 'asset_id': 19051754233171},\n",
       " {'node_id': 8260172027374961, 'asset_id': 19051754233171},\n",
       " {'node_id': 7194880351733953, 'asset_id': 19051754233171},\n",
       " {'node_id': 2303916783017481, 'asset_id': 19051754233171},\n",
       " {'node_id': 1547602040213853, 'asset_id': 19051754233171},\n",
       " {'node_id': 1127254070937759, 'asset_id': 19051754233171},\n",
       " {'node_id': 8800159350881071, 'asset_id': 974757281758422},\n",
       " {'node_id': 4239441505809573, 'asset_id': 974757281758422},\n",
       " {'node_id': 7527541140493892, 'asset_id': 974757281758422},\n",
       " {'node_id': 4996922037408804, 'asset_id': 974757281758422},\n",
       " {'node_id': 8198738696731864, 'asset_id': 974757281758422},\n",
       " {'node_id': 3490794677563875, 'asset_id': 974757281758422},\n",
       " {'node_id': 1413477688955493, 'asset_id': 1226145335502870},\n",
       " {'node_id': 7979969917051303, 'asset_id': 1226145335502870},\n",
       " {'node_id': 2419887712820729, 'asset_id': 1226145335502870},\n",
       " {'node_id': 4710230903940846, 'asset_id': 1226145335502870},\n",
       " {'node_id': 224812503473173, 'asset_id': 1226145335502870},\n",
       " {'node_id': 6582199477181637, 'asset_id': 1226145335502870},\n",
       " {'node_id': 4060238743098286, 'asset_id': 42145109232093},\n",
       " {'node_id': 1448691116013628, 'asset_id': 42145109232093},\n",
       " {'node_id': 1668381482724138, 'asset_id': 926483281787503},\n",
       " {'node_id': 7991534114758918, 'asset_id': 926483281787503},\n",
       " {'node_id': 2757080723405871, 'asset_id': 926483281787503},\n",
       " {'node_id': 6296681591490127, 'asset_id': 926483281787503},\n",
       " {'node_id': 8056766072949524, 'asset_id': 926483281787503},\n",
       " {'node_id': 8526345150455132, 'asset_id': 426456960816721},\n",
       " {'node_id': 2995530021514313, 'asset_id': 426456960816721},\n",
       " {'node_id': 6132557117905637, 'asset_id': 426456960816721},\n",
       " {'node_id': 7142382095480829, 'asset_id': 7538595718049707},\n",
       " {'node_id': 4950887004715623, 'asset_id': 7538595718049707},\n",
       " {'node_id': 7709387750479176, 'asset_id': 7283722595113859},\n",
       " {'node_id': 8638501836016427, 'asset_id': 7283722595113859}]"
      ]
     },
     "execution_count": 153,
     "metadata": {},
     "output_type": "execute_result"
    }
   ],
   "source": [
    "# Create list of dictionaries to create ThreeDAssetMapping\n",
    "resulting_asset_mappings =list(df_predicted_result[[\"node_id\",\"asset_id\"]].T.to_dict().values())\n",
    "print(len(resulting_asset_mappings))\n",
    "resulting_asset_mappings"
   ]
  },
  {
   "cell_type": "code",
   "execution_count": 154,
   "metadata": {},
   "outputs": [],
   "source": [
    "# Create ThreeDAssetMappings\n",
    "cdf_asset_mappings = []\n",
    "for asset_mapping_dict in resulting_asset_mappings:\n",
    "    cdf_asset_mappings.append(ThreeDAssetMapping(**asset_mapping_dict))"
   ]
  },
  {
   "cell_type": "code",
   "execution_count": null,
   "metadata": {},
   "outputs": [],
   "source": [
    "# Uncomment to write to clean:\n",
    "#client.three_d.asset_mappings.create(model_id, revision_id, cdf_asset_mappings)"
   ]
  },
  {
   "cell_type": "code",
   "execution_count": null,
   "metadata": {},
   "outputs": [],
   "source": []
  },
  {
   "cell_type": "code",
   "execution_count": null,
   "metadata": {},
   "outputs": [],
   "source": []
  }
 ],
 "metadata": {
  "kernelspec": {
   "display_name": "Python 3",
   "language": "python",
   "name": "python3"
  },
  "language_info": {
   "codemirror_mode": {
    "name": "ipython",
    "version": 3
   },
   "file_extension": ".py",
   "mimetype": "text/x-python",
   "name": "python",
   "nbconvert_exporter": "python",
   "pygments_lexer": "ipython3",
   "version": "3.7.4"
  }
 },
 "nbformat": 4,
 "nbformat_minor": 2
}
