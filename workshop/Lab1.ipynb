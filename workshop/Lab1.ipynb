{
 "cells": [
  {
   "cell_type": "markdown",
   "metadata": {},
   "source": [
    "# Cognite workshop lab 1 - Getting started\n",
    "Estimated time: 15 minutes."
   ]
  },
  {
   "cell_type": "markdown",
   "metadata": {},
   "source": [
    "## Get access to CDF\n",
    "Before you begin this tutorial, you must have access to a Cognite project / tenant. If you don't have access, you can get access to our `publicdata` project at https://openindustrialdata.com, but note that you will not be able to create assets in that project. It is recommended that you have write access when doing this tutorial."
   ]
  },
  {
   "cell_type": "markdown",
   "metadata": {},
   "source": [
    "## Import modules\n",
    "We need to import some modules in order to interact with CDF. We will use the Python SDK. You can find the full documentation for the SDK at https://cognite-docs.readthedocs-hosted.com/projects/cognite-sdk-python/en/latest.\n",
    "\n",
    "You need an API key to get access to CDF. This API key should be treated as a password, so it should not be stored in clear text in code in e.g. these notebooks. To prevent that, we use a module called `getpass`.\n",
    "\n",
    "The blocks of code in a notebook is called a `cell`, and can be executed by pressing shift+enter when selected. You will see a blue box around the selected cell. Now run the import cell below."
   ]
  },
  {
   "cell_type": "code",
   "execution_count": null,
   "metadata": {},
   "outputs": [],
   "source": [
    "from getpass import getpass\n",
    "from cognite.client import CogniteClient"
   ]
  },
  {
   "cell_type": "markdown",
   "metadata": {},
   "source": [
    "To get access to your project, replacing `publicdata` with your project name in this cell. When you create the `CogniteClient` below, `getpass` will ask for your API key in an extra password field. Simply paste it in and press shift+enter."
   ]
  },
  {
   "cell_type": "code",
   "execution_count": null,
   "metadata": {},
   "outputs": [],
   "source": [
    "client = CogniteClient(\n",
    "    api_key=getpass(\"Please enter API key: \"),\n",
    "    project=\"publicdata\",\n",
    "    client_name=\"DSHub\",\n",
    "    base_url=\"https://api.cognitedata.com\"\n",
    ")"
   ]
  },
  {
   "cell_type": "markdown",
   "metadata": {},
   "source": [
    "## Retrieve assets \n",
    "We can now run this cell to verify that this works. This cell will list some of the assets in your project. If you have no assets in your project, the list will be empty. If this is the case, redo this after you have created some assets below."
   ]
  },
  {
   "cell_type": "code",
   "execution_count": null,
   "metadata": {
    "scrolled": true
   },
   "outputs": [],
   "source": [
    "assets = client.assets.list()\n",
    "assets"
   ]
  },
  {
   "cell_type": "markdown",
   "metadata": {},
   "source": [
    "The SDK will by default limit the number of assets to 25. In order to list more assets, you can use the `limit = 100` option to the `list` function."
   ]
  },
  {
   "cell_type": "code",
   "execution_count": null,
   "metadata": {},
   "outputs": [],
   "source": [
    "assets = client.assets.list(limit=100)\n",
    "assets"
   ]
  },
  {
   "cell_type": "markdown",
   "metadata": {},
   "source": [
    "## Create an asset\n",
    "As the final step in this tutorial, we will create some data. To create data, we need to import the data class for the resource type you want to create. We will create a couple of assets. We use `source=dshub_workshop` so it is easy to delete those objects after we're done.\n",
    "\n",
    "SDK documentation: https://cognite-docs.readthedocs-hosted.com/projects/cognite-sdk-python/en/latest/cognite.html#create-assets\n",
    "\n",
    "(If you get an error message with error code 403, it means you don't have access to create assets. Head over to [console](https://console.cognitedata.com) and create a group with write access to assets, and assign that group to your service account.)"
   ]
  },
  {
   "cell_type": "code",
   "execution_count": null,
   "metadata": {},
   "outputs": [],
   "source": [
    "from cognite.client.data_classes import Asset\n",
    "assets = [Asset(name=\"My asset 1\"), Asset(name=\"My asset 2\")]\n",
    "created_assets = client.assets.create(assets)\n",
    "created_assets"
   ]
  },
  {
   "cell_type": "markdown",
   "metadata": {},
   "source": [
    "Here you can see the two assets you just created."
   ]
  },
  {
   "cell_type": "markdown",
   "metadata": {},
   "source": [
    "## Cleanup - delete tutorial data\n",
    "We want to delete the objects we created above. To do that, we first fetch all data that was created, and then delete them."
   ]
  },
  {
   "cell_type": "code",
   "execution_count": null,
   "metadata": {},
   "outputs": [],
   "source": [
    "client.assets.delete(id=[created_assets[0].id, created_assets[1].id])"
   ]
  },
  {
   "cell_type": "markdown",
   "metadata": {},
   "source": [
    "Congratulations, you have interacted with CDF and both retrieved and created data. In the next tutorial we will look at how you can create time series, insert data points and plot data."
   ]
  }
 ],
 "metadata": {
  "kernelspec": {
   "display_name": "Python 3",
   "language": "python",
   "name": "python3"
  },
  "language_info": {
   "codemirror_mode": {
    "name": "ipython",
    "version": 3
   },
   "file_extension": ".py",
   "mimetype": "text/x-python",
   "name": "python",
   "nbconvert_exporter": "python",
   "pygments_lexer": "ipython3",
   "version": "3.7.4"
  }
 },
 "nbformat": 4,
 "nbformat_minor": 2
}
